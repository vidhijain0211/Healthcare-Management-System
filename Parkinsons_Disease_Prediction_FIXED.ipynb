{
 "cells": [
  {
   "cell_type": "code",
   "execution_count": 10,
   "id": "parkinsons-prediction",
   "metadata": {},
   "outputs": [],
   "source": [
    "# Required Libraries\n",
    "import pandas as pd\n",
    "import numpy as np\n",
    "import pickle\n",
    "import seaborn as sns\n",
    "import matplotlib.pyplot as plt\n",
    "from sklearn.model_selection import train_test_split\n",
    "from sklearn.preprocessing import StandardScaler\n",
    "from sklearn.impute import SimpleImputer\n",
    "from sklearn.metrics import accuracy_score, confusion_matrix\n",
    "from sklearn.linear_model import LogisticRegression\n",
    "from sklearn.tree import DecisionTreeClassifier\n",
    "from sklearn.ensemble import RandomForestClassifier\n",
    "from sklearn.svm import SVC\n",
    "from sklearn.neighbors import KNeighborsClassifier\n",
    "\n"
   ]
  },
  {
   "cell_type": "code",
   "execution_count": 11,
   "metadata": {},
   "outputs": [
    {
     "name": "stdout",
     "output_type": "stream",
     "text": [
      "Dataset loaded successfully.\n"
     ]
    }
   ],
   "source": [
    "# Load Dataset\n",
    "df = pd.read_csv(r\"C:\\Users\\vidhi\\OneDrive\\Documents\\Healthcare Prediction Using ML\\Datasets\\parkinson_data.csv\")\n",
    "print(\"Dataset loaded successfully.\")\n",
    "\n"
   ]
  },
  {
   "cell_type": "code",
   "execution_count": 12,
   "metadata": {},
   "outputs": [
    {
     "name": "stdout",
     "output_type": "stream",
     "text": [
      "Missing values after preprocessing:\n",
      " MDVP:Fo(Hz)         0\n",
      "MDVP:Fhi(Hz)        0\n",
      "MDVP:Flo(Hz)        0\n",
      "MDVP:Jitter(%)      0\n",
      "MDVP:Jitter(Abs)    0\n",
      "MDVP:RAP            0\n",
      "MDVP:PPQ            0\n",
      "Jitter:DDP          0\n",
      "MDVP:Shimmer        0\n",
      "MDVP:Shimmer(dB)    0\n",
      "Shimmer:APQ3        0\n",
      "Shimmer:APQ5        0\n",
      "MDVP:APQ            0\n",
      "Shimmer:DDA         0\n",
      "NHR                 0\n",
      "HNR                 0\n",
      "RPDE                0\n",
      "DFA                 0\n",
      "spread1             0\n",
      "spread2             0\n",
      "D2                  0\n",
      "PPE                 0\n",
      "dtype: int64\n",
      "Data Preprocessing Completed Successfully!\n"
     ]
    }
   ],
   "source": [
    "\n",
    "# Identify Target Column\n",
    "target_column = \"status\"\n",
    "if target_column not in df.columns:\n",
    "    raise ValueError(f\"Target column '{target_column}' not found.\")\n",
    "\n",
    "# Data Preprocessing\n",
    "df.replace(\"?\", np.nan, inplace=True)  # Replace \"?\" with NaN\n",
    "df.dropna(axis=1, thresh=0.9 * len(df), inplace=True)  # Drop columns with >10% missing values\n",
    "\n",
    "# Apply imputation (for all columns)\n",
    "imputer = SimpleImputer(strategy=\"most_frequent\")  # Use most frequent values for categorical & numerical\n",
    "df[df.columns] = imputer.fit_transform(df)\n",
    "\n",
    "# Convert all data to numeric\n",
    "df = df.apply(pd.to_numeric, errors='coerce')\n",
    "\n",
    "# Split Features & Target\n",
    "X = df.drop(columns=[target_column])  # Features\n",
    "y = df[target_column].astype(int)  # Target\n",
    "\n",
    "# Check for NaN values after preprocessing\n",
    "print(\"Missing values after preprocessing:\\n\", X.isnull().sum())\n",
    "\n",
    "# Handle any remaining NaN values (if any exist)\n",
    "imputer = SimpleImputer(strategy=\"mean\")  \n",
    "X = pd.DataFrame(imputer.fit_transform(X), columns=X.columns)\n",
    "\n",
    "# Final check for NaN values\n",
    "if np.isnan(X).sum().sum() > 0:\n",
    "    raise ValueError(\"NaN values still present after imputation!\")\n",
    "\n",
    "# Train-Test Split\n",
    "X_train, X_test, y_train, y_test = train_test_split(X, y, test_size=0.2, random_state=42)\n",
    "\n",
    "# Standardizing the Features\n",
    "scaler = StandardScaler()\n",
    "X_train_scaled = scaler.fit_transform(X_train)\n",
    "X_test_scaled = scaler.transform(X_test)\n",
    "\n",
    "# Final check after scaling\n",
    "if np.isnan(X_train_scaled).sum() > 0 or np.isnan(X_test_scaled).sum() > 0:\n",
    "    raise ValueError(\"NaN values still present in the dataset after preprocessing.\")\n",
    "\n",
    "print(\"Data Preprocessing Completed Successfully!\")\n"
   ]
  },
  {
   "cell_type": "code",
   "execution_count": 13,
   "metadata": {},
   "outputs": [
    {
     "name": "stdout",
     "output_type": "stream",
     "text": [
      "Logistic Regression Accuracy: 0.8974\n",
      "Decision Tree Accuracy: 0.9231\n",
      "Random Forest Accuracy: 0.9487\n",
      "SVM Accuracy: 0.8974\n",
      "KNN Accuracy: 0.9487\n"
     ]
    }
   ],
   "source": [
    "\n",
    "\n",
    "# Define models\n",
    "models = {\n",
    "    \"Logistic Regression\": LogisticRegression(),\n",
    "    \"Decision Tree\": DecisionTreeClassifier(),\n",
    "    \"Random Forest\": RandomForestClassifier(),\n",
    "    \"SVM\": SVC(),\n",
    "    \"KNN\": KNeighborsClassifier()\n",
    "}\n",
    "\n",
    "\n",
    "# Train, predict and evaluate\n",
    "best_model = None\n",
    "best_model_name = \"\"\n",
    "best_accuracy = 0\n",
    "\n",
    "for name, model in models.items():\n",
    "    model.fit(X_train_scaled, y_train)\n",
    "    y_pred = model.predict(X_test_scaled)\n",
    "    acc = accuracy_score(y_test, y_pred)\n",
    "    print(f\"{name} Accuracy: {acc:.4f}\")\n",
    "    \n",
    "    if acc > best_accuracy:\n",
    "        best_accuracy = acc\n",
    "        best_model = model\n",
    "        best_model_name = name\n",
    "        \n"
   ]
  },
  {
   "cell_type": "code",
   "execution_count": 17,
   "metadata": {},
   "outputs": [
    {
     "name": "stdout",
     "output_type": "stream",
     "text": [
      "\n",
      "✅ Best Model: Random Forest with accuracy 0.9487\n",
      "📦 Saved to: models/best_parkinsons_model.sav\n"
     ]
    }
   ],
   "source": [
    "\n",
    "# Save best model and scaler\n",
    "with open(\"models/best_parkinsons_model.sav\", \"wb\") as f:\n",
    "    pickle.dump((scaler, best_model), f)\n",
    "    \n",
    "\n",
    "print(f\"\\n✅ Best Model: {best_model_name} with accuracy {best_accuracy:.4f}\")\n",
    "print(\"📦 Saved to: models/best_parkinsons_model.sav\")\n"
   ]
  },
  {
   "cell_type": "code",
   "execution_count": 18,
   "metadata": {},
   "outputs": [
    {
     "data": {
      "image/png": "[encoded data removed]",
      "text/plain": [
       "<Figure size 500x400 with 1 Axes>"
      ]
     },
     "metadata": {},
     "output_type": "display_data"
    }
   ],
   "source": [
    "\n",
    "# Ensure both y_test and y_pred_best are same type (convert to string)\n",
    "y_test_str = y_test.astype(str)\n",
    "y_pred_best_str = pd.Series(y_test).astype(str)\n",
    "\n",
    "# Now compute confusion matrix\n",
    "cm = confusion_matrix(y_test_str, y_pred_best_str)\n",
    "\n",
    "# Plot Confusion Matrix\n",
    "plt.figure(figsize=(5,4))\n",
    "sns.heatmap(cm, annot=True, fmt='d', cmap='Blues', cbar=False)\n",
    "plt.title(f'Confusion Matrix - {best_model.__class__.__name__}')\n",
    "plt.xlabel('Predicted Label')\n",
    "plt.ylabel('Actual Label')\n",
    "plt.show()\n"
   ]
  },
  {
   "cell_type": "code",
   "execution_count": 19,
   "metadata": {},
   "outputs": [
    {
     "name": "stdout",
     "output_type": "stream",
     "text": [
      "Expected features: 22, Given features: 23\n",
      "The Person has Parkinson’s Disease\n"
     ]
    }
   ],
   "source": [
    "# Example input \n",
    "input_data = (119.992, 157.302, 74.997, 0.00784, 0.00007, 0.0037, 0.00554, 0.011, 0.018, 0.026, 0.165, 0.00908, 0.01583, 0.016, 0.019, 0.031, 20.88, 0.414, 0.813, -4.813, 0.233, 2.056, 0.362)  # Example input\n",
    "\n",
    "#  Check number of features in training dataset\n",
    "expected_features = X.shape[1]  \n",
    "actual_features = len(input_data)\n",
    "\n",
    "print(f\"Expected features: {expected_features}, Given features: {actual_features}\")\n",
    "\n",
    "# Ensure input data has the correct number of features\n",
    "if actual_features > expected_features:\n",
    "    input_data = input_data[:expected_features]  \n",
    "elif actual_features < expected_features:\n",
    "    raise ValueError(f\"Input data is missing {expected_features - actual_features} features!\")\n",
    "\n",
    "# Convert input data to numpy array & reshape\n",
    "input_data_as_numpy_array = np.asarray(input_data).reshape(1, -1)\n",
    "\n",
    "#  Predict using Best Model\n",
    "prediction = best_model.predict(input_data_as_numpy_array)\n",
    "\n",
    "#  Display Prediction Result\n",
    "if prediction[0] == \"0\":\n",
    "    print(\"The Person does not have Parkinson’s Disease\")\n",
    "else:\n",
    "    print(\"The Person has Parkinson’s Disease\")\n"
   ]
  }
 ],
 "metadata": {
  "kernelspec": {
   "display_name": "Python 3",
   "language": "python",
   "name": "python3"
  },
  "language_info": {
   "codemirror_mode": {
    "name": "ipython",
    "version": 3
   },
   "file_extension": ".py",
   "mimetype": "text/x-python",
   "name": "python",
   "nbconvert_exporter": "python",
   "pygments_lexer": "ipython3",
   "version": "3.13.1"
  }
 },
 "nbformat": 4,
 "nbformat_minor": 4
}
