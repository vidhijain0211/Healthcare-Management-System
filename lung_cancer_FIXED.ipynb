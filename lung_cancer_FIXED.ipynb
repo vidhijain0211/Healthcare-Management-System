{
 "cells": [
  {
   "cell_type": "code",
   "execution_count": 1,
   "metadata": {},
   "outputs": [],
   "source": [
    "## import the required libraries\n",
    "import pandas as pd\n",
    "import numpy as np\n",
    "import pickle\n",
    "import seaborn as sns\n",
    "import matplotlib.pyplot as plt\n",
    "from sklearn.model_selection import train_test_split\n",
    "from sklearn.preprocessing import StandardScaler\n",
    "from sklearn.impute import SimpleImputer\n",
    "from sklearn.metrics import accuracy_score, classification_report, confusion_matrix\n",
    "from sklearn.linear_model import LogisticRegression\n",
    "from sklearn.tree import DecisionTreeClassifier\n",
    "from sklearn.ensemble import RandomForestClassifier\n",
    "from sklearn.svm import SVC\n",
    "from sklearn.neighbors import KNeighborsClassifier\n"
   ]
  },
  {
   "cell_type": "code",
   "execution_count": 2,
   "metadata": {},
   "outputs": [],
   "source": [
    "# Load the dataset\n",
    "df = pd.read_csv(r\"C:\\Users\\vidhi\\OneDrive\\Documents\\Healthcare Prediction Using ML\\Datasets\\prepocessed_lungs_data.csv\")"
   ]
  },
  {
   "cell_type": "code",
   "execution_count": 3,
   "metadata": {},
   "outputs": [
    {
     "name": "stdout",
     "output_type": "stream",
     "text": [
      "Index(['GENDER', 'AGE', 'SMOKING', 'YELLOW_FINGERS', 'ANXIETY',\n",
      "       'PEER_PRESSURE', 'CHRONIC DISEASE', 'FATIGUE ', 'ALLERGY ', 'WHEEZING',\n",
      "       'ALCOHOL CONSUMING', 'COUGHING', 'SHORTNESS OF BREATH',\n",
      "       'SWALLOWING DIFFICULTY', 'CHEST PAIN', 'LUNG_CANCER'],\n",
      "      dtype='object')\n",
      "Number of Features in X: 15\n"
     ]
    }
   ],
   "source": [
    "##Check for missing values\n",
    "df.replace(\"?\", np.nan, inplace=True)\n",
    "df.fillna(df.mode().iloc[0], inplace=True)\n",
    "\n",
    "# Convert all columns to numeric\n",
    "df = df.apply(pd.to_numeric, errors='coerce')\n",
    "\n",
    "print(df.columns)\n",
    "\n",
    "# Define features and target\n",
    "target_column = \"LUNG_CANCER\" \n",
    "X = df.drop(columns=[target_column])\n",
    "y = df[target_column].astype(int)\n",
    "\n",
    "print(\"Number of Features in X:\", X.shape[1])\n",
    "\n",
    "\n",
    "# Split data\n",
    "X_train, X_test, y_train, y_test = train_test_split(X, y, test_size=0.2, random_state=42)\n",
    "\n",
    "# Standardize the features\n",
    "scaler = StandardScaler()\n",
    "X_train_scaled = scaler.fit_transform(X_train)\n",
    "X_test_scaled = scaler.transform(X_test)"
   ]
  },
  {
   "cell_type": "code",
   "execution_count": 4,
   "metadata": {},
   "outputs": [
    {
     "name": "stdout",
     "output_type": "stream",
     "text": [
      "Logistic Regression Accuracy: 0.9677\n",
      "Decision Tree Accuracy: 0.9516\n",
      "Random Forest Accuracy: 0.9677\n",
      "SVM Accuracy: 0.9677\n",
      "KNN Accuracy: 0.9355\n"
     ]
    }
   ],
   "source": [
    "# Define models\n",
    "models = {\n",
    "    \"Logistic Regression\": LogisticRegression(),\n",
    "    \"Decision Tree\": DecisionTreeClassifier(),\n",
    "    \"Random Forest\": RandomForestClassifier(),\n",
    "    \"SVM\": SVC(),\n",
    "    \"KNN\": KNeighborsClassifier()\n",
    "}\n",
    "\n",
    "\n",
    "# Train, predict and evaluate\n",
    "best_model = None\n",
    "best_model_name = \"\"\n",
    "best_accuracy = 0\n",
    "\n",
    "for name, model in models.items():\n",
    "    model.fit(X_train_scaled, y_train)\n",
    "    y_pred = model.predict(X_test_scaled)\n",
    "    acc = accuracy_score(y_test, y_pred)\n",
    "    print(f\"{name} Accuracy: {acc:.4f}\")\n",
    "    \n",
    "    if acc > best_accuracy:\n",
    "        best_accuracy = acc\n",
    "        best_model = model\n",
    "        best_model_name = name\n",
    "        \n"
   ]
  },
  {
   "cell_type": "code",
   "execution_count": 7,
   "metadata": {},
   "outputs": [
    {
     "name": "stdout",
     "output_type": "stream",
     "text": [
      "\n",
      "✅ Best Model: Logistic Regression with accuracy 0.9677\n",
      "📦 Saved to: models/best_lung_cancer_model.sav\n"
     ]
    }
   ],
   "source": [
    "# Save best model and scaler\n",
    "with open(\"models/best_lung_cancer_model.sav\", \"wb\") as f:\n",
    "    pickle.dump((scaler, best_model), f)\n",
    "    \n",
    "\n",
    "print(f\"\\n✅ Best Model: {best_model_name} with accuracy {best_accuracy:.4f}\")\n",
    "print(\"📦 Saved to: models/best_lung_cancer_model.sav\")\n"
   ]
  },
  {
   "cell_type": "code",
   "execution_count": 8,
   "metadata": {},
   "outputs": [
    {
     "name": "stderr",
     "output_type": "stream",
     "text": [
      "C:\\Users\\vidhi\\AppData\\Roaming\\Python\\Python313\\site-packages\\sklearn\\utils\\validation.py:2732: UserWarning: X has feature names, but LogisticRegression was fitted without feature names\n",
      "  warnings.warn(\n"
     ]
    },
    {
     "data": {
      "image/png": "[encoded data removed]",
      "text/plain": [
       "<Figure size 640x480 with 2 Axes>"
      ]
     },
     "metadata": {},
     "output_type": "display_data"
    }
   ],
   "source": [
    "# Confusion Matrix\n",
    "y_pred_best = best_model.predict(X_test)\n",
    "cm = confusion_matrix(y_test, y_pred_best)\n",
    "sns.heatmap(cm, annot=True, fmt='d', cmap='Blues')\n",
    "plt.title(f'Confusion Matrix - {best_model_name}')\n",
    "plt.xlabel('Predicted')\n",
    "plt.ylabel('Actual')\n",
    "plt.show()"
   ]
  },
  {
   "cell_type": "code",
   "execution_count": 9,
   "metadata": {},
   "outputs": [
    {
     "name": "stdout",
     "output_type": "stream",
     "text": [
      "Expected features: 15, Given features: 22\n",
      "Prediction Result: Lung Cancer Detected\n"
     ]
    }
   ],
   "source": [
    "# Prediction Example\n",
    "input_data = (119.992, 157.302, 74.997, 0.00784, 0.00007, 0.0037, 0.00554, 0.011, 0.018, 0.026, 0.165, 0.00908, 0.01583, 0.016, 0.019, 0.031, 20.88, 0.414, 0.813, -4.813, 0.233, 2.056)\n",
    "#  Check number of features in training dataset\n",
    "expected_features = X.shape[1]  \n",
    "actual_features = len(input_data)\n",
    "\n",
    "print(f\"Expected features: {expected_features}, Given features: {actual_features}\")\n",
    "\n",
    "#  Ensure input data has the correct number of features\n",
    "if actual_features > expected_features:\n",
    "    input_data = input_data[:expected_features]  # Trim extra values\n",
    "elif actual_features < expected_features:\n",
    "    raise ValueError(f\"Input data is missing {expected_features - actual_features} features!\")\n",
    "\n",
    "# Convert input data to numpy array & reshape\n",
    "input_data_as_numpy_array = np.asarray(input_data).reshape(1, -1)\n",
    "\n",
    "#  Predict using Best Model\n",
    "prediction = best_model.predict(input_data_as_numpy_array)\n",
    "\n",
    "#  Display Prediction Result\n",
    "\n",
    "\n",
    "print(\"Prediction Result:\", \"Lung Cancer Detected\" \n",
    "      if prediction[0] == \"1\" \n",
    "      else \"No Lung Cancer\")\n"
   ]
  }
 ],
 "metadata": {
  "kernelspec": {
   "display_name": "Python 3",
   "language": "python",
   "name": "python3"
  },
  "language_info": {
   "codemirror_mode": {
    "name": "ipython",
    "version": 3
   },
   "file_extension": ".py",
   "mimetype": "text/x-python",
   "name": "python",
   "nbconvert_exporter": "python",
   "pygments_lexer": "ipython3",
   "version": "3.13.1"
  }
 },
 "nbformat": 4,
 "nbformat_minor": 2
}
