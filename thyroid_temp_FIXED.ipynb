{
 "cells": [
  {
   "cell_type": "code",
   "execution_count": 1,
   "metadata": {},
   "outputs": [],
   "source": [
    "##  Import Necessary Libraries\n",
    "import pandas as pd\n",
    "import numpy as np\n",
    "import pickle\n",
    "import seaborn as sns\n",
    "import matplotlib.pyplot as plt\n",
    "from sklearn.model_selection import train_test_split\n",
    "from sklearn.preprocessing import StandardScaler\n",
    "from sklearn.impute import SimpleImputer\n",
    "from sklearn.metrics import accuracy_score, classification_report, confusion_matrix\n",
    "from sklearn.linear_model import LogisticRegression\n",
    "from sklearn.tree import DecisionTreeClassifier\n",
    "from sklearn.ensemble import RandomForestClassifier\n",
    "from sklearn.svm import SVC\n",
    "from sklearn.neighbors import KNeighborsClassifier\n"
   ]
  },
  {
   "cell_type": "code",
   "execution_count": 2,
   "metadata": {},
   "outputs": [
    {
     "name": "stdout",
     "output_type": "stream",
     "text": [
      "Dataset loaded successfully.\n"
     ]
    }
   ],
   "source": [
    "##  Load the Dataset\n",
    "\n",
    "df = pd.read_csv(r\"C:\\Users\\vidhi\\OneDrive\\Documents\\Healthcare Prediction Using ML\\Datasets\\prepocessed_hypothyroid.csv\")  # Ensure the dataset file is present in the same directory\n",
    "print(\"Dataset loaded successfully.\")"
   ]
  },
  {
   "cell_type": "code",
   "execution_count": 3,
   "metadata": {},
   "outputs": [
    {
     "name": "stdout",
     "output_type": "stream",
     "text": [
      "Columns in dataset: ['age', 'sex', 'on thyroxine', 'TSH', 'T3 measured', 'T3', 'TT4', 'binaryClass']\n",
      "Identified target column: binaryClass\n",
      "Missing values per column before handling:\n",
      "age             0\n",
      "sex             0\n",
      "on thyroxine    0\n",
      "TSH             0\n",
      "T3 measured     0\n",
      "T3              0\n",
      "TT4             0\n",
      "binaryClass     0\n",
      "dtype: int64\n",
      "Dataset size after preprocessing: (3772, 8)\n",
      "Preprocessed dataset saved successfully.\n",
      "Preprocessing completed successfully. Dataset is ready for model training.\n"
     ]
    }
   ],
   "source": [
    "##  Data Preprocessing\n",
    "print(\"Columns in dataset:\", df.columns.tolist())\n",
    "\n",
    "target_column = \"binaryClass\"  \n",
    "\n",
    "if target_column not in df.columns:\n",
    "    raise ValueError(f\"Target column '{target_column}' not found. Please check dataset columns: {df.columns.tolist()}\")\n",
    "\n",
    "print(\"Identified target column:\", target_column)\n",
    "\n",
    "# Replace '?' with NaN for proper handling\n",
    "df.replace(\"?\", np.nan, inplace=True)\n",
    "\n",
    "# Check missing values before handling\n",
    "print(\"Missing values per column before handling:\")\n",
    "print(df.isnull().sum())\n",
    "\n",
    "# Drop columns with more than 90% missing values\n",
    "threshold = 0.9 * len(df)  \n",
    "df.dropna(thresh=threshold, axis=1, inplace=True)\n",
    "\n",
    "# Ensure dataset is not fully empty\n",
    "if df.shape[1] == 0:\n",
    "    raise ValueError(\"All columns were dropped due to missing values. Check dataset or lower the missing value threshold.\")\n",
    "\n",
    "# Fill remaining missing values with the most frequent value (mode)\n",
    "imputer = SimpleImputer(strategy=\"most_frequent\")\n",
    "df[df.columns] = imputer.fit_transform(df)\n",
    "\n",
    "# Convert all columns to numeric if needed\n",
    "df = df.apply(pd.to_numeric, errors='coerce')\n",
    "\n",
    "# Final dataset check\n",
    "print(\"Dataset size after preprocessing:\", df.shape)\n",
    "if df.shape[0] == 0:\n",
    "    raise ValueError(\"Dataset is empty after preprocessing. Check missing value handling.\")\n",
    "\n",
    "# Save preprocessed dataset\n",
    "df.to_csv(\"preprocessed_hypothyroid.csv\", index=False)\n",
    "print(\"Preprocessed dataset saved successfully.\")\n",
    "\n",
    "X = df.drop(columns=[target_column])  # Drop the correct target column\n",
    "y = df[target_column].astype(int)  # Ensure target is a string to match categories\n",
    "\n",
    "# Splitting Data into Training and Testing Sets\n",
    "X_train, X_test, y_train, y_test = train_test_split(X, y, test_size=0.2, random_state=42)\n",
    "\n",
    "# Standardizing the Features\n",
    "scaler = StandardScaler()\n",
    "X_train_scaled = scaler.fit_transform(X_train)\n",
    "X_test_scaled = scaler.transform(X_test)\n",
    "\n",
    "# Ensure no NaN values remain after transformation\n",
    "if np.isnan(X_train_scaled).sum() > 0 or np.isnan(X_test_scaled).sum() > 0:\n",
    "    raise ValueError(\"NaN values still present in the dataset after preprocessing.\")\n",
    "\n",
    "print(\"Preprocessing completed successfully. Dataset is ready for model training.\")\n"
   ]
  },
  {
   "cell_type": "code",
   "execution_count": 4,
   "metadata": {},
   "outputs": [
    {
     "name": "stdout",
     "output_type": "stream",
     "text": [
      "Logistic Regression Accuracy: 0.9576\n",
      "Decision Tree Accuracy: 0.9934\n",
      "Random Forest Accuracy: 0.9960\n",
      "SVM Accuracy: 0.9589\n",
      "KNN Accuracy: 0.9536\n"
     ]
    }
   ],
   "source": [
    "\n",
    "\n",
    "# Define models\n",
    "models = {\n",
    "    \"Logistic Regression\": LogisticRegression(),\n",
    "    \"Decision Tree\": DecisionTreeClassifier(),\n",
    "    \"Random Forest\": RandomForestClassifier(),\n",
    "    \"SVM\": SVC(),\n",
    "    \"KNN\": KNeighborsClassifier()\n",
    "}\n",
    "\n",
    "\n",
    "# Train, predict and evaluate\n",
    "best_model = None\n",
    "best_model_name = \"\"\n",
    "best_accuracy = 0\n",
    "\n",
    "for name, model in models.items():\n",
    "    model.fit(X_train_scaled, y_train)\n",
    "    y_pred = model.predict(X_test_scaled)\n",
    "    acc = accuracy_score(y_test, y_pred)\n",
    "    print(f\"{name} Accuracy: {acc:.4f}\")\n",
    "    \n",
    "    if acc > best_accuracy:\n",
    "        best_accuracy = acc\n",
    "        best_model = model\n",
    "        best_model_name = name\n",
    "        \n"
   ]
  },
  {
   "cell_type": "code",
   "execution_count": 5,
   "metadata": {},
   "outputs": [
    {
     "name": "stdout",
     "output_type": "stream",
     "text": [
      "\n",
      "✅ Best Model: Random Forest with accuracy 0.9960\n",
      "📦 Saved to: models/best_thyroid_model.sav\n"
     ]
    }
   ],
   "source": [
    "\n",
    "# Save best model and scaler\n",
    "with open(\"models/best_thyroid_model.sav\", \"wb\") as f:\n",
    "    pickle.dump((scaler, best_model), f)\n",
    "    \n",
    "\n",
    "print(f\"\\n✅ Best Model: {best_model_name} with accuracy {best_accuracy:.4f}\")\n",
    "print(\"📦 Saved to: models/best_thyroid_model.sav\")\n"
   ]
  },
  {
   "cell_type": "code",
   "execution_count": 6,
   "metadata": {},
   "outputs": [
    {
     "name": "stderr",
     "output_type": "stream",
     "text": [
      "C:\\Users\\vidhi\\AppData\\Roaming\\Python\\Python313\\site-packages\\sklearn\\utils\\validation.py:2732: UserWarning: X has feature names, but RandomForestClassifier was fitted without feature names\n",
      "  warnings.warn(\n"
     ]
    },
    {
     "data": {
      "image/png": "[encoded data removed]",
      "text/plain": [
       "<Figure size 500x400 with 2 Axes>"
      ]
     },
     "metadata": {},
     "output_type": "display_data"
    }
   ],
   "source": [
    "##  Confusion Matrix for Best Model\n",
    "y_pred_best = best_model.predict(X_test)\n",
    "cm = confusion_matrix(y_test, y_pred_best)\n",
    "plt.figure(figsize=(5,4))\n",
    "sns.heatmap(cm, annot=True, fmt='d', cmap='Blues')\n",
    "plt.title(f'Confusion Matrix - {best_model_name}')\n",
    "plt.xlabel('Predicted')\n",
    "plt.ylabel('Actual')\n",
    "plt.show()"
   ]
  },
  {
   "cell_type": "code",
   "execution_count": 7,
   "metadata": {},
   "outputs": [
    {
     "name": "stdout",
     "output_type": "stream",
     "text": [
      "The Person has Thyroid Disease\n"
     ]
    }
   ],
   "source": [
    "##  Prediction with Best Model\n",
    "input_data = (1, 45, 0, 1, 2.1, 1.5, 110) \n",
    "\n",
    "# Convert input data to numpy array & reshape\n",
    "input_data_as_numpy_array = np.asarray(input_data).reshape(1, -1)\n",
    "\n",
    "# Predict using Best Model\n",
    "prediction = best_model.predict(input_data_as_numpy_array)\n",
    "\n",
    "# Display Prediction Result\n",
    "if prediction[0] == \"0\":\n",
    "    print(\"The Person does not have Thyroid Disease\")\n",
    "else:\n",
    "    print(\"The Person has Thyroid Disease\")\n"
   ]
  }
 ],
 "metadata": {
  "kernelspec": {
   "display_name": "Python 3",
   "language": "python",
   "name": "python3"
  },
  "language_info": {
   "codemirror_mode": {
    "name": "ipython",
    "version": 3
   },
   "file_extension": ".py",
   "mimetype": "text/x-python",
   "name": "python",
   "nbconvert_exporter": "python",
   "pygments_lexer": "ipython3",
   "version": "3.13.1"
  }
 },
 "nbformat": 4,
 "nbformat_minor": 2
}
